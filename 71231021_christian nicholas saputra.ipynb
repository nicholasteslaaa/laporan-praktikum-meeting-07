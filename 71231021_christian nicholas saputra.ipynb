{
 "cells": [
  {
   "cell_type": "markdown",
   "id": "abe61d18",
   "metadata": {},
   "source": [
    "Latihan 1"
   ]
  },
  {
   "cell_type": "code",
   "execution_count": null,
   "id": "25a4d082",
   "metadata": {},
   "outputs": [],
   "source": [
    "def penentu_anagram(kata, kata_lain):\n",
    "    # mengurutkan huruf sesuai urutan alfabetm\n",
    "    if sorted(kata)==sorted(kata_lain):\n",
    "        print(\"anagram\")\n",
    "    # jika tidak sama\n",
    "    else:\n",
    "        print(\"bukan anagram\")\n",
    "        \n",
    "# buat input kata terhindar dari human error seperti typo pada spasi\n",
    "kata = str((input(\"masukan kata: \")).lower()).replace(\" \",\"\")# menghilangkan spasi\n",
    "kata_lain = str((input(\"masukan kata lain: \")).lower()).replace(\" \",\"\")\n",
    "\n",
    "penentu_anagram(kata, kata_lain)\n"
   ]
  },
  {
   "cell_type": "markdown",
   "id": "dcd82576",
   "metadata": {},
   "source": [
    "Latihan 2"
   ]
  },
  {
   "cell_type": "code",
   "execution_count": null,
   "id": "859c1839",
   "metadata": {},
   "outputs": [],
   "source": [
    "def penghitung_frekuensi(kalimat, dicari):\n",
    "    # menjadikan huruf kecil\n",
    "    kalimat = str(kalimat).lower()\n",
    "    \n",
    "    # menghilangkan simbol\n",
    "    kalimat = ''.join([i for i in kalimat if i.isalpha() or i == \" \"])\n",
    "    \n",
    "    # mencari kata\n",
    "    count = kalimat.count(dicari)\n",
    "    \n",
    "    return count\n",
    "\n",
    "kalimat =  \"Saya mau makan. Makan itu wajib. Mau siang atau malam saya wajib makan\"\n",
    "print(kalimat)\n",
    "\n",
    "print(\"frekuensi kata makan: \",penghitung_frekuensi(kalimat,\"makan\"))\n",
    "print(\"frekuensi kata saya: \",penghitung_frekuensi(kalimat,\"saya\"))"
   ]
  },
  {
   "cell_type": "markdown",
   "id": "4ae02515",
   "metadata": {},
   "source": [
    "Latihan 3"
   ]
  },
  {
   "cell_type": "code",
   "execution_count": null,
   "id": "aa452d55",
   "metadata": {},
   "outputs": [],
   "source": [
    "# kalimat\n",
    "kalimat = \" saya tidak suka memancing ikan         \"\n",
    "\n",
    "# penerapan strip\n",
    "print(\"sebelum strip: \", kalimat)\n",
    "print(\"sesudah strip: \",kalimat.strip(),\"\\n\")\n",
    "\n",
    "# pembuktian\n",
    "print(\"panjang kalimat setelah di strip(): \", len(kalimat.strip()))\n",
    "print(\"panjang kalimat sebelum di strip(): \",len(kalimat))"
   ]
  },
  {
   "cell_type": "markdown",
   "id": "7f1ef881",
   "metadata": {},
   "source": [
    "Latihan 4"
   ]
  },
  {
   "cell_type": "code",
   "execution_count": null,
   "id": "85b14eca",
   "metadata": {},
   "outputs": [],
   "source": [
    "def pencari_panjang_kata(kalimat):\n",
    "    # menjadikan kalimat menjadi huruf kecil\n",
    "    kalimat = str(kalimat).lower()\n",
    "    \n",
    "    # memisahkan kalimat menjadikanya list\n",
    "    kalimat_split = kalimat.split()\n",
    "    \n",
    "    # dimulai dari index[0]\n",
    "    kata_terpanjang = kalimat_split[0]\n",
    "    kata_terpendek = kalimat_split[0]\n",
    "    \n",
    "    # pengecekan kalimat\n",
    "    for i in kalimat_split:\n",
    "        # kata terpendek\n",
    "        if len(i) < len(kata_terpendek):\n",
    "            kata_terpendek = i\n",
    "        # kata terpanjang\n",
    "        if len(i) > len(kata_terpanjang):\n",
    "            kata_terpanjang = i\n",
    "            \n",
    "    return kata_terpanjang, kata_terpendek       \n",
    "    \n",
    "kalimat = \"red snakes and a black frog in the pool\"\n",
    "print(f\"kalimat:\\n{kalimat}\\n\")\n",
    "\n",
    "kata_terpanjang, kata_terpendek = pencari_panjang_kata(kalimat)\n",
    "print(f\"kata terpanjang dari kalimat di atas adalah: {kata_terpanjang}\\n\"\n",
    "      f\"kata terpendek dari kata diatas adalah: {kata_terpendek}\")"
   ]
  }
 ],
 "metadata": {
  "language_info": {
   "name": "python"
  }
 },
 "nbformat": 4,
 "nbformat_minor": 5
}
